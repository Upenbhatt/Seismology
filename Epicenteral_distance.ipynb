{
  "nbformat": 4,
  "nbformat_minor": 0,
  "metadata": {
    "colab": {
      "provenance": [],
      "authorship_tag": "ABX9TyPv0OiKiXoqq+ZOQHj5eFVT",
      "include_colab_link": true
    },
    "kernelspec": {
      "name": "python3",
      "display_name": "Python 3"
    },
    "language_info": {
      "name": "python"
    }
  },
  "cells": [
    {
      "cell_type": "markdown",
      "metadata": {
        "id": "view-in-github",
        "colab_type": "text"
      },
      "source": [
        "<a href=\"https://colab.research.google.com/github/Upenbhatt/Seismology/blob/main/Epicenteral_distance.ipynb\" target=\"_parent\"><img src=\"https://colab.research.google.com/assets/colab-badge.svg\" alt=\"Open In Colab\"/></a>"
      ]
    },
    {
      "cell_type": "markdown",
      "source": [
        "To estimate Epicentral distance of an earthquake to any point."
      ],
      "metadata": {
        "id": "1pwqr4smv8jh"
      }
    },
    {
      "cell_type": "code",
      "source": [],
      "metadata": {
        "id": "HfazcB_9YUkF"
      },
      "execution_count": null,
      "outputs": []
    },
    {
      "cell_type": "code",
      "source": [
        "import math\n",
        "\n",
        "def haversine_distance(lat1, lon1, lat2, lon2):\n",
        "    # Convert latitude and longitude from degrees to radians\n",
        "    lat1 = math.radians(lat1)\n",
        "    lon1 = math.radians(lon1)\n",
        "    lat2 = math.radians(lat2)\n",
        "    lon2 = math.radians(lon2)\n",
        "\n",
        "    # Radius of the Earth in kilometers\n",
        "    radius = 6371.0\n",
        "\n",
        "    # Haversine formula\n",
        "    dlat = lat2 - lat1\n",
        "    dlon = lon2 - lon1\n",
        "    a = math.sin(dlat / 2)**2 + math.cos(lat1) * math.cos(lat2) * math.sin(dlon / 2)**2\n",
        "    c = 2 * math.atan2(math.sqrt(a), math.sqrt(1 - a))\n",
        "    distance = radius * c\n",
        "\n",
        "    return distance\n",
        "\n",
        "# Coordinates of the first point (in degrees)\n",
        "lat1 = 25.106\n",
        "lon1 = 92.361\n",
        "\n",
        "# Coordinates of the second point (in degrees)\n",
        "lat2 = 24.98\n",
        "lon2 = 92.248\n",
        "\n",
        "# Calculate the distance\n",
        "distance = haversine_distance(lat1, lon1, lat2, lon2)\n",
        "print(\"Distance between the two points:\", distance, \"km\")\n"
      ],
      "metadata": {
        "colab": {
          "base_uri": "https://localhost:8080/"
        },
        "id": "JiSfpkCIYUhU",
        "outputId": "1182ee67-d507-4d0f-9b85-4c47800660ff"
      },
      "execution_count": 16,
      "outputs": [
        {
          "output_type": "stream",
          "name": "stdout",
          "text": [
            "Distance between the two points: 18.052325712206766 km\n"
          ]
        }
      ]
    },
    {
      "cell_type": "code",
      "source": [],
      "metadata": {
        "id": "uewk9eMsaleY"
      },
      "execution_count": null,
      "outputs": []
    }
  ]
}