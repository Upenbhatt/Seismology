{
  "nbformat": 4,
  "nbformat_minor": 0,
  "metadata": {
    "colab": {
      "provenance": [],
      "authorship_tag": "ABX9TyN4o7J2li/dqcU1BAVQ+Yl9",
      "include_colab_link": true
    },
    "kernelspec": {
      "name": "python3",
      "display_name": "Python 3"
    },
    "language_info": {
      "name": "python"
    }
  },
  "cells": [
    {
      "cell_type": "markdown",
      "metadata": {
        "id": "view-in-github",
        "colab_type": "text"
      },
      "source": [
        "<a href=\"https://colab.research.google.com/github/Upenbhatt/Seismology/blob/main/Newmark's%20model%20.ipynb\" target=\"_parent\"><img src=\"https://colab.research.google.com/assets/colab-badge.svg\" alt=\"Open In Colab\"/></a>"
      ]
    },
    {
      "cell_type": "code",
      "source": [
        "import numpy as np\n",
        "\n",
        "# Constants\n",
        "g = 9.81  # Acceleration due to gravity (m/s^2)\n",
        "\n",
        "# Input parameters\n",
        "#PGA of 30/12/1984 event of  magnitude 6.\n",
        "pga = 0.658764  # Peak Ground Acceleration (PGA) in m/s^2\n",
        "angle_of_internal_friction = np.deg2rad(24)  # Angle of internal friction in radians   (24degrees)\n",
        "cohesion = 17850  # Cohesion in Pascals (Pa)  # 17.85 Kpa cohesion of meta-sediments\n",
        "slope_angle = np.deg2rad(20)  # Slope angle in radians   ### Natural Slope angle and slope height are taken instead of cut slope, from A.K Sarma publication\n",
        "slope_height = 15  # Slope height in meters\n",
        "\n",
        "# Calculate the critical acceleration using Newmark's model\n",
        "sin_phi = np.sin(angle_of_internal_friction)\n",
        "cos_phi = np.cos(angle_of_internal_friction)\n",
        "\n",
        "critical_acceleration = (pga - cohesion * cos_phi) / (g * (sin_phi + cohesion * sin_phi / (pga * cos_phi)))\n",
        "\n",
        "# Output the critical acceleration\n",
        "print(f\"Critical Acceleration (a_critic): {critical_acceleration:.2f} m/s^2\")\n"
      ],
      "metadata": {
        "colab": {
          "base_uri": "https://localhost:8080/"
        },
        "id": "r_tK7ck7fjFE",
        "outputId": "8c6cb127-975b-438d-8042-b583f4681c74"
      },
      "execution_count": 1,
      "outputs": [
        {
          "output_type": "stream",
          "name": "stdout",
          "text": [
            "Critical Acceleration (a_critic): -0.14 m/s^2\n"
          ]
        }
      ]
    }
  ]
}