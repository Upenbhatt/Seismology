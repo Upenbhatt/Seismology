{
  "nbformat": 4,
  "nbformat_minor": 0,
  "metadata": {
    "colab": {
      "provenance": [],
      "authorship_tag": "ABX9TyPnckvhwtccHLGBN29BqqK7",
      "include_colab_link": true
    },
    "kernelspec": {
      "name": "python3",
      "display_name": "Python 3"
    },
    "language_info": {
      "name": "python"
    }
  },
  "cells": [
    {
      "cell_type": "markdown",
      "metadata": {
        "id": "view-in-github",
        "colab_type": "text"
      },
      "source": [
        "<a href=\"https://colab.research.google.com/github/Upenbhatt/Seismology/blob/main/PGA_using_event_id.ipynb\" target=\"_parent\"><img src=\"https://colab.research.google.com/assets/colab-badge.svg\" alt=\"Open In Colab\"/></a>"
      ]
    },
    {
      "cell_type": "code",
      "execution_count": 1,
      "metadata": {
        "colab": {
          "base_uri": "https://localhost:8080/",
          "height": 1000
        },
        "id": "4NVy4vkpnuf3",
        "outputId": "71e896e0-92b5-4ac1-d31d-fac500b065db"
      },
      "outputs": [
        {
          "output_type": "stream",
          "name": "stdout",
          "text": [
            "Collecting usgs-libcomcat\n",
            "  Downloading usgs_libcomcat-2.0.21-py3-none-any.whl (4.0 MB)\n",
            "\u001b[2K     \u001b[90m━━━━━━━━━━━━━━━━━━━━━━━━━━━━━━━━━━━━━━━━\u001b[0m \u001b[32m4.0/4.0 MB\u001b[0m \u001b[31m7.8 MB/s\u001b[0m eta \u001b[36m0:00:00\u001b[0m\n",
            "\u001b[?25hCollecting esi-utils-geo (from usgs-libcomcat)\n",
            "  Downloading esi_utils_geo-0.9.4-py3-none-any.whl (8.2 MB)\n",
            "\u001b[2K     \u001b[90m━━━━━━━━━━━━━━━━━━━━━━━━━━━━━━━━━━━━━━━━\u001b[0m \u001b[32m8.2/8.2 MB\u001b[0m \u001b[31m16.1 MB/s\u001b[0m eta \u001b[36m0:00:00\u001b[0m\n",
            "\u001b[?25hCollecting esi-utils-time (from usgs-libcomcat)\n",
            "  Downloading esi_utils_time-1.0.2-py3-none-any.whl (7.1 MB)\n",
            "\u001b[2K     \u001b[90m━━━━━━━━━━━━━━━━━━━━━━━━━━━━━━━━━━━━━━━━\u001b[0m \u001b[32m7.1/7.1 MB\u001b[0m \u001b[31m45.9 MB/s\u001b[0m eta \u001b[36m0:00:00\u001b[0m\n",
            "\u001b[?25hCollecting esi-utils-io (from usgs-libcomcat)\n",
            "  Downloading esi_utils_io-1.0.2-py3-none-any.whl (11 kB)\n",
            "Requirement already satisfied: fiona>=1.8.20 in /usr/local/lib/python3.10/dist-packages (from usgs-libcomcat) (1.9.4.post1)\n",
            "Requirement already satisfied: h5py in /usr/local/lib/python3.10/dist-packages (from usgs-libcomcat) (3.9.0)\n",
            "Requirement already satisfied: numpy>=1.21 in /usr/local/lib/python3.10/dist-packages (from usgs-libcomcat) (1.23.5)\n",
            "Collecting obspy>=1.2.1 (from usgs-libcomcat)\n",
            "  Downloading obspy-1.4.0-cp310-cp310-manylinux_2_17_x86_64.manylinux2014_x86_64.whl (14.5 MB)\n",
            "\u001b[2K     \u001b[90m━━━━━━━━━━━━━━━━━━━━━━━━━━━━━━━━━━━━━━━━\u001b[0m \u001b[32m14.5/14.5 MB\u001b[0m \u001b[31m81.6 MB/s\u001b[0m eta \u001b[36m0:00:00\u001b[0m\n",
            "\u001b[?25hRequirement already satisfied: pandas>=1.3.3 in /usr/local/lib/python3.10/dist-packages (from usgs-libcomcat) (1.5.3)\n",
            "Requirement already satisfied: openpyxl>=3.0.6 in /usr/local/lib/python3.10/dist-packages (from usgs-libcomcat) (3.1.2)\n",
            "Requirement already satisfied: geopy>=2.1.0 in /usr/local/lib/python3.10/dist-packages (from usgs-libcomcat) (2.3.0)\n",
            "Collecting xlsxwriter>=3.0.1 (from usgs-libcomcat)\n",
            "  Downloading XlsxWriter-3.1.2-py3-none-any.whl (153 kB)\n",
            "\u001b[2K     \u001b[90m━━━━━━━━━━━━━━━━━━━━━━━━━━━━━━━━━━━━━━\u001b[0m \u001b[32m153.0/153.0 kB\u001b[0m \u001b[31m17.2 MB/s\u001b[0m eta \u001b[36m0:00:00\u001b[0m\n",
            "\u001b[?25hRequirement already satisfied: attrs>=19.2.0 in /usr/local/lib/python3.10/dist-packages (from fiona>=1.8.20->usgs-libcomcat) (23.1.0)\n",
            "Requirement already satisfied: certifi in /usr/local/lib/python3.10/dist-packages (from fiona>=1.8.20->usgs-libcomcat) (2023.7.22)\n",
            "Requirement already satisfied: click~=8.0 in /usr/local/lib/python3.10/dist-packages (from fiona>=1.8.20->usgs-libcomcat) (8.1.7)\n",
            "Requirement already satisfied: click-plugins>=1.0 in /usr/local/lib/python3.10/dist-packages (from fiona>=1.8.20->usgs-libcomcat) (1.1.1)\n",
            "Requirement already satisfied: cligj>=0.5 in /usr/local/lib/python3.10/dist-packages (from fiona>=1.8.20->usgs-libcomcat) (0.7.2)\n",
            "Requirement already satisfied: six in /usr/local/lib/python3.10/dist-packages (from fiona>=1.8.20->usgs-libcomcat) (1.16.0)\n",
            "Requirement already satisfied: geographiclib<3,>=1.52 in /usr/local/lib/python3.10/dist-packages (from geopy>=2.1.0->usgs-libcomcat) (2.0)\n",
            "Requirement already satisfied: scipy>=1.7 in /usr/local/lib/python3.10/dist-packages (from obspy>=1.2.1->usgs-libcomcat) (1.10.1)\n",
            "Requirement already satisfied: matplotlib>=3.3 in /usr/local/lib/python3.10/dist-packages (from obspy>=1.2.1->usgs-libcomcat) (3.7.1)\n",
            "Requirement already satisfied: lxml in /usr/local/lib/python3.10/dist-packages (from obspy>=1.2.1->usgs-libcomcat) (4.9.3)\n",
            "Requirement already satisfied: setuptools in /usr/local/lib/python3.10/dist-packages (from obspy>=1.2.1->usgs-libcomcat) (67.7.2)\n",
            "Requirement already satisfied: sqlalchemy in /usr/local/lib/python3.10/dist-packages (from obspy>=1.2.1->usgs-libcomcat) (2.0.20)\n",
            "Requirement already satisfied: decorator in /usr/local/lib/python3.10/dist-packages (from obspy>=1.2.1->usgs-libcomcat) (4.4.2)\n",
            "Requirement already satisfied: requests in /usr/local/lib/python3.10/dist-packages (from obspy>=1.2.1->usgs-libcomcat) (2.31.0)\n",
            "Requirement already satisfied: et-xmlfile in /usr/local/lib/python3.10/dist-packages (from openpyxl>=3.0.6->usgs-libcomcat) (1.1.0)\n",
            "Requirement already satisfied: python-dateutil>=2.8.1 in /usr/local/lib/python3.10/dist-packages (from pandas>=1.3.3->usgs-libcomcat) (2.8.2)\n",
            "Requirement already satisfied: pytz>=2020.1 in /usr/local/lib/python3.10/dist-packages (from pandas>=1.3.3->usgs-libcomcat) (2023.3)\n",
            "Collecting bs4>=0.0.1 (from esi-utils-time->usgs-libcomcat)\n",
            "  Downloading bs4-0.0.1.tar.gz (1.1 kB)\n",
            "  Preparing metadata (setup.py) ... \u001b[?25l\u001b[?25hdone\n",
            "Requirement already satisfied: Pillow>=9.1.0 in /usr/local/lib/python3.10/dist-packages (from esi-utils-time->usgs-libcomcat) (9.4.0)\n",
            "Requirement already satisfied: shapely>=1.8 in /usr/local/lib/python3.10/dist-packages (from esi-utils-time->usgs-libcomcat) (2.0.1)\n",
            "Requirement already satisfied: pyproj>=2.6.1 in /usr/local/lib/python3.10/dist-packages (from esi-utils-time->usgs-libcomcat) (3.6.0)\n",
            "Requirement already satisfied: beautifulsoup4 in /usr/local/lib/python3.10/dist-packages (from bs4>=0.0.1->esi-utils-time->usgs-libcomcat) (4.11.2)\n",
            "Requirement already satisfied: contourpy>=1.0.1 in /usr/local/lib/python3.10/dist-packages (from matplotlib>=3.3->obspy>=1.2.1->usgs-libcomcat) (1.1.0)\n",
            "Requirement already satisfied: cycler>=0.10 in /usr/local/lib/python3.10/dist-packages (from matplotlib>=3.3->obspy>=1.2.1->usgs-libcomcat) (0.11.0)\n",
            "Requirement already satisfied: fonttools>=4.22.0 in /usr/local/lib/python3.10/dist-packages (from matplotlib>=3.3->obspy>=1.2.1->usgs-libcomcat) (4.42.0)\n",
            "Requirement already satisfied: kiwisolver>=1.0.1 in /usr/local/lib/python3.10/dist-packages (from matplotlib>=3.3->obspy>=1.2.1->usgs-libcomcat) (1.4.4)\n",
            "Requirement already satisfied: packaging>=20.0 in /usr/local/lib/python3.10/dist-packages (from matplotlib>=3.3->obspy>=1.2.1->usgs-libcomcat) (23.1)\n",
            "Requirement already satisfied: pyparsing>=2.3.1 in /usr/local/lib/python3.10/dist-packages (from matplotlib>=3.3->obspy>=1.2.1->usgs-libcomcat) (3.1.1)\n",
            "Requirement already satisfied: charset-normalizer<4,>=2 in /usr/local/lib/python3.10/dist-packages (from requests->obspy>=1.2.1->usgs-libcomcat) (3.2.0)\n",
            "Requirement already satisfied: idna<4,>=2.5 in /usr/local/lib/python3.10/dist-packages (from requests->obspy>=1.2.1->usgs-libcomcat) (3.4)\n",
            "Requirement already satisfied: urllib3<3,>=1.21.1 in /usr/local/lib/python3.10/dist-packages (from requests->obspy>=1.2.1->usgs-libcomcat) (2.0.4)\n",
            "Requirement already satisfied: typing-extensions>=4.2.0 in /usr/local/lib/python3.10/dist-packages (from sqlalchemy->obspy>=1.2.1->usgs-libcomcat) (4.7.1)\n",
            "Requirement already satisfied: greenlet!=0.4.17 in /usr/local/lib/python3.10/dist-packages (from sqlalchemy->obspy>=1.2.1->usgs-libcomcat) (2.0.2)\n",
            "Requirement already satisfied: soupsieve>1.2 in /usr/local/lib/python3.10/dist-packages (from beautifulsoup4->bs4>=0.0.1->esi-utils-time->usgs-libcomcat) (2.4.1)\n",
            "Building wheels for collected packages: bs4\n",
            "  Building wheel for bs4 (setup.py) ... \u001b[?25l\u001b[?25hdone\n",
            "  Created wheel for bs4: filename=bs4-0.0.1-py3-none-any.whl size=1256 sha256=77f304cdfc1825ffe9fe3ffddaedf396378315f3606d9c0170307cbded1c3695\n",
            "  Stored in directory: /root/.cache/pip/wheels/25/42/45/b773edc52acb16cd2db4cf1a0b47117e2f69bb4eb300ed0e70\n",
            "Successfully built bs4\n",
            "Installing collected packages: xlsxwriter, bs4, obspy, esi-utils-time, esi-utils-io, esi-utils-geo, usgs-libcomcat\n",
            "Successfully installed bs4-0.0.1 esi-utils-geo-0.9.4 esi-utils-io-1.0.2 esi-utils-time-1.0.2 obspy-1.4.0 usgs-libcomcat-2.0.21 xlsxwriter-3.1.2\n"
          ]
        },
        {
          "output_type": "display_data",
          "data": {
            "application/vnd.colab-display-data+json": {
              "pip_warning": {
                "packages": [
                  "signal"
                ]
              }
            }
          },
          "metadata": {}
        }
      ],
      "source": [
        "pip install usgs-libcomcat"
      ]
    },
    {
      "cell_type": "code",
      "source": [
        "pip install geopy"
      ],
      "metadata": {
        "colab": {
          "base_uri": "https://localhost:8080/"
        },
        "id": "19bAOt5anzeP",
        "outputId": "caf1fdd1-b3be-474d-89bf-3a890f3f11bc"
      },
      "execution_count": 1,
      "outputs": [
        {
          "output_type": "stream",
          "name": "stdout",
          "text": [
            "Requirement already satisfied: geopy in /usr/local/lib/python3.10/dist-packages (2.3.0)\n",
            "Requirement already satisfied: geographiclib<3,>=1.52 in /usr/local/lib/python3.10/dist-packages (from geopy) (2.0)\n"
          ]
        }
      ]
    },
    {
      "cell_type": "code",
      "source": [
        "from datetime import datetime\n",
        "import json\n",
        "import os\n",
        "from glob import glob\n",
        "import pandas as pd\n",
        "\n",
        "from libcomcat.search import search,get_event_by_id\n",
        "from geopy.distance import distance"
      ],
      "metadata": {
        "id": "CGAC8CeToQWI"
      },
      "execution_count": 2,
      "outputs": []
    },
    {
      "cell_type": "code",
      "source": [
        "from obspy import UTCDateTime\n",
        "from obspy.clients.fdsn import Client\n"
      ],
      "metadata": {
        "id": "_4o_kxRype4K"
      },
      "execution_count": 8,
      "outputs": []
    },
    {
      "cell_type": "code",
      "source": [
        "client = Client(\"USGS\")\n"
      ],
      "metadata": {
        "id": "9cyDbuf7phTS"
      },
      "execution_count": 9,
      "outputs": []
    },
    {
      "cell_type": "code",
      "source": [
        "## TO FETCH EVENT ID"
      ],
      "metadata": {
        "id": "FL-bOSzoFmW4"
      },
      "execution_count": null,
      "outputs": []
    },
    {
      "cell_type": "code",
      "source": [
        "starttime=datetime(2021,1,1,0,0)\n",
        "endtime=datetime(2023,8,22,0,0)\n",
        "minlatitude=24.40\n",
        "maxlatitude=25.67\n",
        "minlongitude=89.95\n",
        "maxlongitude=93.09\n",
        "eventtype='earthquake'\n",
        "events=search(starttime=starttime,\n",
        "              endtime=endtime,\n",
        "              minlatitude=minlatitude,\n",
        "              maxlatitude=maxlatitude,\n",
        "              minlongitude=minlongitude,\n",
        "              maxlongitude=maxlongitude,\n",
        "              eventtype=eventtype,\n",
        "              producttype='shaKEMAP')\n",
        "print(events)"
      ],
      "metadata": {
        "colab": {
          "base_uri": "https://localhost:8080/"
        },
        "id": "77F-Ceb9oeee",
        "outputId": "10800f1f-d680-4e44-d31d-ee014975f2c2"
      },
      "execution_count": 24,
      "outputs": [
        {
          "output_type": "stream",
          "name": "stdout",
          "text": [
            "[us6000kzvl 2023-08-14 14:49:48.477000 (24.926,92.228) 35.1 km M5.3]\n"
          ]
        }
      ]
    },
    {
      "cell_type": "code",
      "source": [
        "print('Got',len(events),'earthquake events.')\n",
        "events[0]"
      ],
      "metadata": {
        "colab": {
          "base_uri": "https://localhost:8080/"
        },
        "id": "x_kLLYSz3XLy",
        "outputId": "5e503ed2-ace0-4e87-bc1b-fd5e52d71060"
      },
      "execution_count": 25,
      "outputs": [
        {
          "output_type": "stream",
          "name": "stdout",
          "text": [
            "Got 1 earthquake events.\n"
          ]
        },
        {
          "output_type": "execute_result",
          "data": {
            "text/plain": [
              "us6000kzvl 2023-08-14 14:49:48.477000 (24.926,92.228) 35.1 km M5.3"
            ]
          },
          "metadata": {},
          "execution_count": 25
        }
      ]
    },
    {
      "cell_type": "code",
      "source": [
        "events=[e for e in events if e.hasProduct('dyfi')]\n",
        "print('Got',len(events),'events with ShakeMap and DYFI products.')"
      ],
      "metadata": {
        "colab": {
          "base_uri": "https://localhost:8080/"
        },
        "id": "KMS8pyVj4mhK",
        "outputId": "9e883ee5-0c3f-4d86-db96-0e692380afd9"
      },
      "execution_count": 26,
      "outputs": [
        {
          "output_type": "stream",
          "name": "stdout",
          "text": [
            "Got 1 events with ShakeMap and DYFI products.\n"
          ]
        }
      ]
    },
    {
      "cell_type": "code",
      "source": [
        "exampleEvent=events[0]\n",
        "exampleEvent"
      ],
      "metadata": {
        "colab": {
          "base_uri": "https://localhost:8080/"
        },
        "id": "zpsBMCbF7_pS",
        "outputId": "7b24364a-d578-4545-9dcc-3a36eb043a4f"
      },
      "execution_count": 31,
      "outputs": [
        {
          "output_type": "execute_result",
          "data": {
            "text/plain": [
              "us6000kzvl 2023-08-14 14:49:48.477000 (24.926,92.228) 35.1 km M5.3"
            ]
          },
          "metadata": {},
          "execution_count": 31
        }
      ]
    },
    {
      "cell_type": "code",
      "source": [
        "eventdir='./events'\n",
        "os.makedirs(eventdir,exist_ok=True)\n",
        "\n",
        "columns=['id','lat','lon','val','nresp']\n",
        "\n",
        "allevents={ 'shakemap':{} }\n",
        "\n",
        "shakemapParam='pga'\n",
        "def getShakeMap(e):\n",
        "\n",
        "    # Check if loaded previously\n",
        "    if 'shakemap' in allevents and e.id in allevents['shakemap']:\n",
        "        return allevents['shakemap'][e.id]\n",
        "\n",
        "    datafile='stationlist.json'\n",
        "    propTag=shakemapParam\n",
        "\n",
        "    # Check if already saved to file\n",
        "    savefile='%s/%s/%s' % (eventdir,e.id,datafile)\n",
        "    fileglob=glob(savefile)\n",
        "    if not fileglob:\n",
        "        eventdata=get_event_by_id(e.id)\n",
        "        product=eventdata.getProducts('shakemap')[0]\n",
        "        os.makedirs('%s/%s' % (eventdir,e.id),exist_ok=True)\n",
        "        url=product.getContent(datafile,savefile)\n",
        "        print('Downloaded',url)\n",
        "\n",
        "    with open(savefile,'r') as f:\n",
        "        stations=json.load(f)['features']\n",
        "\n",
        "    nresp=1\n",
        "    results=[]\n",
        "    for s in stations:\n",
        "        val=s['properties'][propTag]\n",
        "        if not val or val=='null':\n",
        "            continue\n",
        "\n",
        "        # Don't include macroseismic stations!\n",
        "        id=s['id']\n",
        "        if id[0:4]=='DYFI' or id[0:3]=='OBS':\n",
        "            continue\n",
        "\n",
        "        lon,lat=s['geometry']['coordinates']\n",
        "        results.append([id,\n",
        "                        round(float(lat),4),\n",
        "                        round(float(lon),4),\n",
        "                        float(val),\n",
        "                        float(nresp)])\n",
        "\n",
        "    results=pd.DataFrame(results,columns=columns)\n",
        "    allevents['shakemap'][e.id]=results\n",
        "    return results\n",
        "\n",
        "\n",
        "shakemap=getShakeMap(exampleEvent)\n",
        "print('This event has',len(shakemap),'ShakeMap stations.')\n",
        "shakemap.head(5)"
      ],
      "metadata": {
        "colab": {
          "base_uri": "https://localhost:8080/",
          "height": 124
        },
        "id": "QKS5R7mh8C6C",
        "outputId": "79c7195c-bbf9-4505-abb7-906f4b516197"
      },
      "execution_count": 32,
      "outputs": [
        {
          "output_type": "stream",
          "name": "stdout",
          "text": [
            "Downloaded https://earthquake.usgs.gov/product/shakemap/us6000kzvl/us/1692111141841/download/stationlist.json\n",
            "This event has 0 ShakeMap stations.\n"
          ]
        },
        {
          "output_type": "execute_result",
          "data": {
            "text/plain": [
              "Empty DataFrame\n",
              "Columns: [id, lat, lon, val, nresp]\n",
              "Index: []"
            ],
            "text/html": [
              "\n",
              "  <div id=\"df-10d21bcc-2c2b-4bdc-a162-7405bc9ab362\" class=\"colab-df-container\">\n",
              "    <div>\n",
              "<style scoped>\n",
              "    .dataframe tbody tr th:only-of-type {\n",
              "        vertical-align: middle;\n",
              "    }\n",
              "\n",
              "    .dataframe tbody tr th {\n",
              "        vertical-align: top;\n",
              "    }\n",
              "\n",
              "    .dataframe thead th {\n",
              "        text-align: right;\n",
              "    }\n",
              "</style>\n",
              "<table border=\"1\" class=\"dataframe\">\n",
              "  <thead>\n",
              "    <tr style=\"text-align: right;\">\n",
              "      <th></th>\n",
              "      <th>id</th>\n",
              "      <th>lat</th>\n",
              "      <th>lon</th>\n",
              "      <th>val</th>\n",
              "      <th>nresp</th>\n",
              "    </tr>\n",
              "  </thead>\n",
              "  <tbody>\n",
              "  </tbody>\n",
              "</table>\n",
              "</div>\n",
              "    <div class=\"colab-df-buttons\">\n",
              "\n",
              "  <div class=\"colab-df-container\">\n",
              "    <button class=\"colab-df-convert\" onclick=\"convertToInteractive('df-10d21bcc-2c2b-4bdc-a162-7405bc9ab362')\"\n",
              "            title=\"Convert this dataframe to an interactive table.\"\n",
              "            style=\"display:none;\">\n",
              "\n",
              "  <svg xmlns=\"http://www.w3.org/2000/svg\" height=\"24px\" viewBox=\"0 -960 960 960\">\n",
              "    <path d=\"M120-120v-720h720v720H120Zm60-500h600v-160H180v160Zm220 220h160v-160H400v160Zm0 220h160v-160H400v160ZM180-400h160v-160H180v160Zm440 0h160v-160H620v160ZM180-180h160v-160H180v160Zm440 0h160v-160H620v160Z\"/>\n",
              "  </svg>\n",
              "    </button>\n",
              "\n",
              "  <style>\n",
              "    .colab-df-container {\n",
              "      display:flex;\n",
              "      gap: 12px;\n",
              "    }\n",
              "\n",
              "    .colab-df-convert {\n",
              "      background-color: #E8F0FE;\n",
              "      border: none;\n",
              "      border-radius: 50%;\n",
              "      cursor: pointer;\n",
              "      display: none;\n",
              "      fill: #1967D2;\n",
              "      height: 32px;\n",
              "      padding: 0 0 0 0;\n",
              "      width: 32px;\n",
              "    }\n",
              "\n",
              "    .colab-df-convert:hover {\n",
              "      background-color: #E2EBFA;\n",
              "      box-shadow: 0px 1px 2px rgba(60, 64, 67, 0.3), 0px 1px 3px 1px rgba(60, 64, 67, 0.15);\n",
              "      fill: #174EA6;\n",
              "    }\n",
              "\n",
              "    .colab-df-buttons div {\n",
              "      margin-bottom: 4px;\n",
              "    }\n",
              "\n",
              "    [theme=dark] .colab-df-convert {\n",
              "      background-color: #3B4455;\n",
              "      fill: #D2E3FC;\n",
              "    }\n",
              "\n",
              "    [theme=dark] .colab-df-convert:hover {\n",
              "      background-color: #434B5C;\n",
              "      box-shadow: 0px 1px 3px 1px rgba(0, 0, 0, 0.15);\n",
              "      filter: drop-shadow(0px 1px 2px rgba(0, 0, 0, 0.3));\n",
              "      fill: #FFFFFF;\n",
              "    }\n",
              "  </style>\n",
              "\n",
              "    <script>\n",
              "      const buttonEl =\n",
              "        document.querySelector('#df-10d21bcc-2c2b-4bdc-a162-7405bc9ab362 button.colab-df-convert');\n",
              "      buttonEl.style.display =\n",
              "        google.colab.kernel.accessAllowed ? 'block' : 'none';\n",
              "\n",
              "      async function convertToInteractive(key) {\n",
              "        const element = document.querySelector('#df-10d21bcc-2c2b-4bdc-a162-7405bc9ab362');\n",
              "        const dataTable =\n",
              "          await google.colab.kernel.invokeFunction('convertToInteractive',\n",
              "                                                    [key], {});\n",
              "        if (!dataTable) return;\n",
              "\n",
              "        const docLinkHtml = 'Like what you see? Visit the ' +\n",
              "          '<a target=\"_blank\" href=https://colab.research.google.com/notebooks/data_table.ipynb>data table notebook</a>'\n",
              "          + ' to learn more about interactive tables.';\n",
              "        element.innerHTML = '';\n",
              "        dataTable['output_type'] = 'display_data';\n",
              "        await google.colab.output.renderOutput(dataTable, element);\n",
              "        const docLink = document.createElement('div');\n",
              "        docLink.innerHTML = docLinkHtml;\n",
              "        element.appendChild(docLink);\n",
              "      }\n",
              "    </script>\n",
              "  </div>\n",
              "\n",
              "\n",
              "<div id=\"df-9e38f261-73bf-4d9d-b8a0-53de4a66ca0d\">\n",
              "  <button class=\"colab-df-quickchart\" onclick=\"quickchart('df-9e38f261-73bf-4d9d-b8a0-53de4a66ca0d')\"\n",
              "            title=\"Suggest charts.\"\n",
              "            style=\"display:none;\">\n",
              "\n",
              "<svg xmlns=\"http://www.w3.org/2000/svg\" height=\"24px\"viewBox=\"0 0 24 24\"\n",
              "     width=\"24px\">\n",
              "    <g>\n",
              "        <path d=\"M19 3H5c-1.1 0-2 .9-2 2v14c0 1.1.9 2 2 2h14c1.1 0 2-.9 2-2V5c0-1.1-.9-2-2-2zM9 17H7v-7h2v7zm4 0h-2V7h2v10zm4 0h-2v-4h2v4z\"/>\n",
              "    </g>\n",
              "</svg>\n",
              "  </button>\n",
              "\n",
              "<style>\n",
              "  .colab-df-quickchart {\n",
              "    background-color: #E8F0FE;\n",
              "    border: none;\n",
              "    border-radius: 50%;\n",
              "    cursor: pointer;\n",
              "    display: none;\n",
              "    fill: #1967D2;\n",
              "    height: 32px;\n",
              "    padding: 0 0 0 0;\n",
              "    width: 32px;\n",
              "  }\n",
              "\n",
              "  .colab-df-quickchart:hover {\n",
              "    background-color: #E2EBFA;\n",
              "    box-shadow: 0px 1px 2px rgba(60, 64, 67, 0.3), 0px 1px 3px 1px rgba(60, 64, 67, 0.15);\n",
              "    fill: #174EA6;\n",
              "  }\n",
              "\n",
              "  [theme=dark] .colab-df-quickchart {\n",
              "    background-color: #3B4455;\n",
              "    fill: #D2E3FC;\n",
              "  }\n",
              "\n",
              "  [theme=dark] .colab-df-quickchart:hover {\n",
              "    background-color: #434B5C;\n",
              "    box-shadow: 0px 1px 3px 1px rgba(0, 0, 0, 0.15);\n",
              "    filter: drop-shadow(0px 1px 2px rgba(0, 0, 0, 0.3));\n",
              "    fill: #FFFFFF;\n",
              "  }\n",
              "</style>\n",
              "\n",
              "  <script>\n",
              "    async function quickchart(key) {\n",
              "      const charts = await google.colab.kernel.invokeFunction(\n",
              "          'suggestCharts', [key], {});\n",
              "    }\n",
              "    (() => {\n",
              "      let quickchartButtonEl =\n",
              "        document.querySelector('#df-9e38f261-73bf-4d9d-b8a0-53de4a66ca0d button');\n",
              "      quickchartButtonEl.style.display =\n",
              "        google.colab.kernel.accessAllowed ? 'block' : 'none';\n",
              "    })();\n",
              "  </script>\n",
              "</div>\n",
              "    </div>\n",
              "  </div>\n"
            ]
          },
          "metadata": {},
          "execution_count": 32
        }
      ]
    },
    {
      "cell_type": "code",
      "source": [
        "dyfiType='1km'\n",
        "minresp=3\n",
        "\n",
        "allevents['dyfi']={}\n",
        "def getDyfi(e):\n",
        "\n",
        "    # Check if loaded previously\n",
        "    if 'dyfi' in allevents and e.id in allevents['dyfi']:\n",
        "        return allevents['dyfi'][e.id]\n",
        "\n",
        "    datafile='dyfi_geo_%s.geojson' % dyfiType\n",
        "    propTag='cdi'\n",
        "\n",
        "    # Check if already saved to file\n",
        "    savefile='%s/%s/%s' % (eventdir,e.id,datafile)\n",
        "    fileglob=glob(savefile)\n",
        "    if not fileglob:\n",
        "        eventdata=get_event_by_id(e.id)\n",
        "        product=eventdata.getProducts('dyfi')[0]\n",
        "        os.makedirs('%s/%s' % (eventdir,e.id),exist_ok=True)\n",
        "        url=product.getContent(datafile,savefile)\n",
        "        print('Downloaded',url)\n",
        "\n",
        "    with open(savefile,'r') as f:\n",
        "        stations=json.load(f)['features']\n",
        "\n",
        "    results=[]\n",
        "    for s in stations:\n",
        "        val=s['properties'][propTag]\n",
        "        if not val or val=='null':\n",
        "            continue\n",
        "        nresp=s['properties']['nresp']\n",
        "        if nresp<minresp:\n",
        "            continue\n",
        "        # Clean up UTM name\n",
        "        id=s['properties']['name'].split('<br>')[0]\n",
        "\n",
        "        # Get centroid of UTM cell\n",
        "        lat=0; lon=0\n",
        "        for pt in s['geometry']['coordinates'][0]:\n",
        "            lat+=float(pt[0])\n",
        "            lon+=float(pt[1])\n",
        "        ncorners=len(s['geometry']['coordinates'][0])\n",
        "        lat,lon=(round(lon/ncorners,4),round(lat/ncorners,4))\n",
        "\n",
        "        results.append([id,lat,lon,val,nresp])\n",
        "\n",
        "    results=pd.DataFrame(results,columns=columns)\n",
        "    allevents['dyfi'][e.id]=results\n",
        "    return results\n",
        "\n",
        "\n",
        "dyfi=getDyfi(exampleEvent)\n",
        "print('This event has',len(dyfi),'DYFI locations.')\n",
        "dyfi[0:5]"
      ],
      "metadata": {
        "colab": {
          "base_uri": "https://localhost:8080/",
          "height": 147
        },
        "id": "8cTO7IHi8qqW",
        "outputId": "6b74adbb-aa7a-429f-aeac-73251e7433a8"
      },
      "execution_count": 33,
      "outputs": [
        {
          "output_type": "stream",
          "name": "stdout",
          "text": [
            "Downloaded https://earthquake.usgs.gov/product/dyfi/us6000kzvl/us/1692538577756/dyfi_geo_1km.geojson\n",
            "This event has 2 DYFI locations.\n"
          ]
        },
        {
          "output_type": "execute_result",
          "data": {
            "text/plain": [
              "                         id      lat      lon  val  nresp\n",
              "0  UTM:(46Q 0231 2634 1000)  23.7993  90.3649  3.7      3\n",
              "1  UTM:(46Q 0236 2632 1000)  23.7821  90.4143  4.0      3"
            ],
            "text/html": [
              "\n",
              "  <div id=\"df-19dd20cd-e025-43a6-9182-359792674b05\" class=\"colab-df-container\">\n",
              "    <div>\n",
              "<style scoped>\n",
              "    .dataframe tbody tr th:only-of-type {\n",
              "        vertical-align: middle;\n",
              "    }\n",
              "\n",
              "    .dataframe tbody tr th {\n",
              "        vertical-align: top;\n",
              "    }\n",
              "\n",
              "    .dataframe thead th {\n",
              "        text-align: right;\n",
              "    }\n",
              "</style>\n",
              "<table border=\"1\" class=\"dataframe\">\n",
              "  <thead>\n",
              "    <tr style=\"text-align: right;\">\n",
              "      <th></th>\n",
              "      <th>id</th>\n",
              "      <th>lat</th>\n",
              "      <th>lon</th>\n",
              "      <th>val</th>\n",
              "      <th>nresp</th>\n",
              "    </tr>\n",
              "  </thead>\n",
              "  <tbody>\n",
              "    <tr>\n",
              "      <th>0</th>\n",
              "      <td>UTM:(46Q 0231 2634 1000)</td>\n",
              "      <td>23.7993</td>\n",
              "      <td>90.3649</td>\n",
              "      <td>3.7</td>\n",
              "      <td>3</td>\n",
              "    </tr>\n",
              "    <tr>\n",
              "      <th>1</th>\n",
              "      <td>UTM:(46Q 0236 2632 1000)</td>\n",
              "      <td>23.7821</td>\n",
              "      <td>90.4143</td>\n",
              "      <td>4.0</td>\n",
              "      <td>3</td>\n",
              "    </tr>\n",
              "  </tbody>\n",
              "</table>\n",
              "</div>\n",
              "    <div class=\"colab-df-buttons\">\n",
              "\n",
              "  <div class=\"colab-df-container\">\n",
              "    <button class=\"colab-df-convert\" onclick=\"convertToInteractive('df-19dd20cd-e025-43a6-9182-359792674b05')\"\n",
              "            title=\"Convert this dataframe to an interactive table.\"\n",
              "            style=\"display:none;\">\n",
              "\n",
              "  <svg xmlns=\"http://www.w3.org/2000/svg\" height=\"24px\" viewBox=\"0 -960 960 960\">\n",
              "    <path d=\"M120-120v-720h720v720H120Zm60-500h600v-160H180v160Zm220 220h160v-160H400v160Zm0 220h160v-160H400v160ZM180-400h160v-160H180v160Zm440 0h160v-160H620v160ZM180-180h160v-160H180v160Zm440 0h160v-160H620v160Z\"/>\n",
              "  </svg>\n",
              "    </button>\n",
              "\n",
              "  <style>\n",
              "    .colab-df-container {\n",
              "      display:flex;\n",
              "      gap: 12px;\n",
              "    }\n",
              "\n",
              "    .colab-df-convert {\n",
              "      background-color: #E8F0FE;\n",
              "      border: none;\n",
              "      border-radius: 50%;\n",
              "      cursor: pointer;\n",
              "      display: none;\n",
              "      fill: #1967D2;\n",
              "      height: 32px;\n",
              "      padding: 0 0 0 0;\n",
              "      width: 32px;\n",
              "    }\n",
              "\n",
              "    .colab-df-convert:hover {\n",
              "      background-color: #E2EBFA;\n",
              "      box-shadow: 0px 1px 2px rgba(60, 64, 67, 0.3), 0px 1px 3px 1px rgba(60, 64, 67, 0.15);\n",
              "      fill: #174EA6;\n",
              "    }\n",
              "\n",
              "    .colab-df-buttons div {\n",
              "      margin-bottom: 4px;\n",
              "    }\n",
              "\n",
              "    [theme=dark] .colab-df-convert {\n",
              "      background-color: #3B4455;\n",
              "      fill: #D2E3FC;\n",
              "    }\n",
              "\n",
              "    [theme=dark] .colab-df-convert:hover {\n",
              "      background-color: #434B5C;\n",
              "      box-shadow: 0px 1px 3px 1px rgba(0, 0, 0, 0.15);\n",
              "      filter: drop-shadow(0px 1px 2px rgba(0, 0, 0, 0.3));\n",
              "      fill: #FFFFFF;\n",
              "    }\n",
              "  </style>\n",
              "\n",
              "    <script>\n",
              "      const buttonEl =\n",
              "        document.querySelector('#df-19dd20cd-e025-43a6-9182-359792674b05 button.colab-df-convert');\n",
              "      buttonEl.style.display =\n",
              "        google.colab.kernel.accessAllowed ? 'block' : 'none';\n",
              "\n",
              "      async function convertToInteractive(key) {\n",
              "        const element = document.querySelector('#df-19dd20cd-e025-43a6-9182-359792674b05');\n",
              "        const dataTable =\n",
              "          await google.colab.kernel.invokeFunction('convertToInteractive',\n",
              "                                                    [key], {});\n",
              "        if (!dataTable) return;\n",
              "\n",
              "        const docLinkHtml = 'Like what you see? Visit the ' +\n",
              "          '<a target=\"_blank\" href=https://colab.research.google.com/notebooks/data_table.ipynb>data table notebook</a>'\n",
              "          + ' to learn more about interactive tables.';\n",
              "        element.innerHTML = '';\n",
              "        dataTable['output_type'] = 'display_data';\n",
              "        await google.colab.output.renderOutput(dataTable, element);\n",
              "        const docLink = document.createElement('div');\n",
              "        docLink.innerHTML = docLinkHtml;\n",
              "        element.appendChild(docLink);\n",
              "      }\n",
              "    </script>\n",
              "  </div>\n",
              "\n",
              "\n",
              "<div id=\"df-8549fff2-dff4-44d5-a831-f40a861cfcf8\">\n",
              "  <button class=\"colab-df-quickchart\" onclick=\"quickchart('df-8549fff2-dff4-44d5-a831-f40a861cfcf8')\"\n",
              "            title=\"Suggest charts.\"\n",
              "            style=\"display:none;\">\n",
              "\n",
              "<svg xmlns=\"http://www.w3.org/2000/svg\" height=\"24px\"viewBox=\"0 0 24 24\"\n",
              "     width=\"24px\">\n",
              "    <g>\n",
              "        <path d=\"M19 3H5c-1.1 0-2 .9-2 2v14c0 1.1.9 2 2 2h14c1.1 0 2-.9 2-2V5c0-1.1-.9-2-2-2zM9 17H7v-7h2v7zm4 0h-2V7h2v10zm4 0h-2v-4h2v4z\"/>\n",
              "    </g>\n",
              "</svg>\n",
              "  </button>\n",
              "\n",
              "<style>\n",
              "  .colab-df-quickchart {\n",
              "    background-color: #E8F0FE;\n",
              "    border: none;\n",
              "    border-radius: 50%;\n",
              "    cursor: pointer;\n",
              "    display: none;\n",
              "    fill: #1967D2;\n",
              "    height: 32px;\n",
              "    padding: 0 0 0 0;\n",
              "    width: 32px;\n",
              "  }\n",
              "\n",
              "  .colab-df-quickchart:hover {\n",
              "    background-color: #E2EBFA;\n",
              "    box-shadow: 0px 1px 2px rgba(60, 64, 67, 0.3), 0px 1px 3px 1px rgba(60, 64, 67, 0.15);\n",
              "    fill: #174EA6;\n",
              "  }\n",
              "\n",
              "  [theme=dark] .colab-df-quickchart {\n",
              "    background-color: #3B4455;\n",
              "    fill: #D2E3FC;\n",
              "  }\n",
              "\n",
              "  [theme=dark] .colab-df-quickchart:hover {\n",
              "    background-color: #434B5C;\n",
              "    box-shadow: 0px 1px 3px 1px rgba(0, 0, 0, 0.15);\n",
              "    filter: drop-shadow(0px 1px 2px rgba(0, 0, 0, 0.3));\n",
              "    fill: #FFFFFF;\n",
              "  }\n",
              "</style>\n",
              "\n",
              "  <script>\n",
              "    async function quickchart(key) {\n",
              "      const charts = await google.colab.kernel.invokeFunction(\n",
              "          'suggestCharts', [key], {});\n",
              "    }\n",
              "    (() => {\n",
              "      let quickchartButtonEl =\n",
              "        document.querySelector('#df-8549fff2-dff4-44d5-a831-f40a861cfcf8 button');\n",
              "      quickchartButtonEl.style.display =\n",
              "        google.colab.kernel.accessAllowed ? 'block' : 'none';\n",
              "    })();\n",
              "  </script>\n",
              "</div>\n",
              "    </div>\n",
              "  </div>\n"
            ]
          },
          "metadata": {},
          "execution_count": 33
        }
      ]
    },
    {
      "cell_type": "code",
      "source": [],
      "metadata": {
        "id": "h52GSJ7C9DYC"
      },
      "execution_count": null,
      "outputs": []
    },
    {
      "cell_type": "code",
      "source": [
        "pip install git+https://code.usgs.gov/ghsc/esi/shakemap-sampling-tool.git"
      ],
      "metadata": {
        "colab": {
          "base_uri": "https://localhost:8080/"
        },
        "id": "hH4f8fRp9ERO",
        "outputId": "c56282ac-d123-4c5b-abac-aedfd7692d68"
      },
      "execution_count": 38,
      "outputs": [
        {
          "output_type": "stream",
          "name": "stdout",
          "text": [
            "Collecting git+https://code.usgs.gov/ghsc/esi/shakemap-sampling-tool.git\n",
            "  Cloning https://code.usgs.gov/ghsc/esi/shakemap-sampling-tool.git to /tmp/pip-req-build-f0lcqhns\n",
            "  Running command git clone --filter=blob:none --quiet https://code.usgs.gov/ghsc/esi/shakemap-sampling-tool.git /tmp/pip-req-build-f0lcqhns\n",
            "  Resolved https://code.usgs.gov/ghsc/esi/shakemap-sampling-tool.git to commit e51822c8f9da838917e387f290ef285417ab74ec\n",
            "  Preparing metadata (setup.py) ... \u001b[?25l\u001b[?25hdone\n",
            "Requirement already satisfied: pandas>=1.1.0 in /usr/local/lib/python3.10/dist-packages (from shakemap-sampling-tool==0.0.0) (1.5.3)\n",
            "Requirement already satisfied: openpyxl in /usr/local/lib/python3.10/dist-packages (from shakemap-sampling-tool==0.0.0) (3.1.2)\n",
            "Requirement already satisfied: h5py in /usr/local/lib/python3.10/dist-packages (from shakemap-sampling-tool==0.0.0) (3.9.0)\n",
            "Requirement already satisfied: python-dateutil>=2.8.1 in /usr/local/lib/python3.10/dist-packages (from pandas>=1.1.0->shakemap-sampling-tool==0.0.0) (2.8.2)\n",
            "Requirement already satisfied: pytz>=2020.1 in /usr/local/lib/python3.10/dist-packages (from pandas>=1.1.0->shakemap-sampling-tool==0.0.0) (2023.3)\n",
            "Requirement already satisfied: numpy>=1.21.0 in /usr/local/lib/python3.10/dist-packages (from pandas>=1.1.0->shakemap-sampling-tool==0.0.0) (1.23.5)\n",
            "Requirement already satisfied: et-xmlfile in /usr/local/lib/python3.10/dist-packages (from openpyxl->shakemap-sampling-tool==0.0.0) (1.1.0)\n",
            "Requirement already satisfied: six>=1.5 in /usr/local/lib/python3.10/dist-packages (from python-dateutil>=2.8.1->pandas>=1.1.0->shakemap-sampling-tool==0.0.0) (1.16.0)\n",
            "Building wheels for collected packages: shakemap-sampling-tool\n",
            "  Building wheel for shakemap-sampling-tool (setup.py) ... \u001b[?25l\u001b[?25hdone\n",
            "  Created wheel for shakemap-sampling-tool: filename=shakemap_sampling_tool-0.0.0-py3-none-any.whl size=10089 sha256=2885f41812e0f550399ce7ec5bfde3f9a7078eabf7e7dd113344685c1c932d96\n",
            "  Stored in directory: /tmp/pip-ephem-wheel-cache-zw9fhy_b/wheels/a0/62/c4/11c3da0ac002d86d59a49afbcb1b9c030f577b7d2741ec4372\n",
            "Successfully built shakemap-sampling-tool\n",
            "Installing collected packages: shakemap-sampling-tool\n",
            "Successfully installed shakemap-sampling-tool-0.0.0\n"
          ]
        }
      ]
    },
    {
      "cell_type": "code",
      "source": [
        "pip install --upgrade git+https://code.usgs.gov/ghsc/esi/shakemap-sampling-tool.git"
      ],
      "metadata": {
        "colab": {
          "base_uri": "https://localhost:8080/"
        },
        "id": "ZnXO7LASBUvH",
        "outputId": "55cf8aef-d88b-44f4-9112-d036b48bdde2"
      },
      "execution_count": 39,
      "outputs": [
        {
          "output_type": "stream",
          "name": "stdout",
          "text": [
            "Collecting git+https://code.usgs.gov/ghsc/esi/shakemap-sampling-tool.git\n",
            "  Cloning https://code.usgs.gov/ghsc/esi/shakemap-sampling-tool.git to /tmp/pip-req-build-yq3yqcq5\n",
            "  Running command git clone --filter=blob:none --quiet https://code.usgs.gov/ghsc/esi/shakemap-sampling-tool.git /tmp/pip-req-build-yq3yqcq5\n",
            "  fatal: unable to access 'https://code.usgs.gov/ghsc/esi/shakemap-sampling-tool.git/': Received HTTP/0.9 when not allowed\n",
            "  error: RPC failed; curl 1 Received HTTP/0.9 when not allowed\n",
            "  fatal: error reading section header 'shallow-info'\n",
            "  fatal: unable to access 'https://code.usgs.gov/ghsc/esi/shakemap-sampling-tool.git/': Received HTTP/0.9 when not allowed\n",
            "  Resolved https://code.usgs.gov/ghsc/esi/shakemap-sampling-tool.git to commit e51822c8f9da838917e387f290ef285417ab74ec\n",
            "  Preparing metadata (setup.py) ... \u001b[?25l\u001b[?25hdone\n",
            "Requirement already satisfied: pandas>=1.1.0 in /usr/local/lib/python3.10/dist-packages (from shakemap-sampling-tool==0.0.0) (1.5.3)\n",
            "Requirement already satisfied: openpyxl in /usr/local/lib/python3.10/dist-packages (from shakemap-sampling-tool==0.0.0) (3.1.2)\n",
            "Requirement already satisfied: h5py in /usr/local/lib/python3.10/dist-packages (from shakemap-sampling-tool==0.0.0) (3.9.0)\n",
            "Requirement already satisfied: python-dateutil>=2.8.1 in /usr/local/lib/python3.10/dist-packages (from pandas>=1.1.0->shakemap-sampling-tool==0.0.0) (2.8.2)\n",
            "Requirement already satisfied: pytz>=2020.1 in /usr/local/lib/python3.10/dist-packages (from pandas>=1.1.0->shakemap-sampling-tool==0.0.0) (2023.3)\n",
            "Requirement already satisfied: numpy>=1.21.0 in /usr/local/lib/python3.10/dist-packages (from pandas>=1.1.0->shakemap-sampling-tool==0.0.0) (1.23.5)\n",
            "Requirement already satisfied: et-xmlfile in /usr/local/lib/python3.10/dist-packages (from openpyxl->shakemap-sampling-tool==0.0.0) (1.1.0)\n",
            "Requirement already satisfied: six>=1.5 in /usr/local/lib/python3.10/dist-packages (from python-dateutil>=2.8.1->pandas>=1.1.0->shakemap-sampling-tool==0.0.0) (1.16.0)\n"
          ]
        }
      ]
    },
    {
      "cell_type": "code",
      "source": [
        "!sst sample us6000kzvl -c \"Sonapur_Tunnel\" 25.106 92.361"
      ],
      "metadata": {
        "colab": {
          "base_uri": "https://localhost:8080/"
        },
        "id": "JerEEbqXBWjD",
        "outputId": "75733626-14f8-4046-8131-855b8ac6c7a6"
      },
      "execution_count": 43,
      "outputs": [
        {
          "output_type": "stream",
          "name": "stdout",
          "text": [
            "            id      lat      lon sample_lat sample_lon sample_distance_m       vs30  MMI_C  MMI_Sigma_HH_YD  MMI_mean  MMI_phi  MMI_sta_phi  MMI_std  MMI_tau  PGA_mean  PGA_phi  PGA_std  PGA_tau  PGV_mean  PGV_phi  PGV_std  PGV_tau  SA(0.3)_mean  SA(0.3)_phi  SA(0.3)_std  SA(0.3)_tau  SA(1.0)_mean  SA(1.0)_phi  SA(1.0)_std  SA(1.0)_tau  SA(3.0)_mean  SA(3.0)_phi  SA(3.0)_std  SA(3.0)_tau\n",
            "Sonapur_Tunnel 25.10600 92.36100   25.10833   92.35833          373.3776 626.682861    NaN              NaN  4.486801 1.147391          NaN 1.291067 0.591902  -2.98232 0.584089 0.686706 0.361118  0.600602 0.570795 0.654863 0.320995     -2.686092      0.63903     0.729311     0.351476     -4.526419     0.627339     0.732911     0.378952      -6.83973     0.597926     0.708476      0.38003\n"
          ]
        }
      ]
    },
    {
      "cell_type": "code",
      "source": [
        "!sst sample us6000jpaj -c \"Sonapur_Tunnel\" 25.106 92.361"
      ],
      "metadata": {
        "colab": {
          "base_uri": "https://localhost:8080/"
        },
        "id": "gs1aw0pNt2ob",
        "outputId": "51d71899-2747-4d3c-af0f-ae8393bd8e4b"
      },
      "execution_count": 67,
      "outputs": [
        {
          "output_type": "stream",
          "name": "stdout",
          "text": [
            "No ShakeMap for event us6000jpaj. Exiting.\n",
            "Traceback (most recent call last):\n",
            "  File \"/usr/local/bin/sst\", line 8, in <module>\n",
            "    sys.exit(main())\n",
            "  File \"/usr/local/lib/python3.10/dist-packages/sampling/bin/sst.py\", line 45, in main\n",
            "    args.func(args)\n",
            "  File \"/usr/local/lib/python3.10/dist-packages/sampling/handlers.py\", line 96, in get_sample_handler\n",
            "    hdf_url = get_hdf_url(args.eventid)\n",
            "  File \"/usr/local/lib/python3.10/dist-packages/sampling/hdf_sampling.py\", line 76, in get_hdf_url\n",
            "    shakemaps = products[\"shakemap\"]\n",
            "KeyError: 'shakemap'\n"
          ]
        }
      ]
    },
    {
      "cell_type": "code",
      "source": [
        "!sst sample us7000ilc3 -c \"Sonapur_Tunnel\" 25.106 92.361"
      ],
      "metadata": {
        "colab": {
          "base_uri": "https://localhost:8080/"
        },
        "id": "cidlz53Kt7Lq",
        "outputId": "6ed1b79b-187a-4b2a-d8e2-b32afdb9196d"
      },
      "execution_count": 69,
      "outputs": [
        {
          "output_type": "stream",
          "name": "stdout",
          "text": [
            "No ShakeMap for event us7000ilc3. Exiting.\n",
            "Traceback (most recent call last):\n",
            "  File \"/usr/local/bin/sst\", line 8, in <module>\n",
            "    sys.exit(main())\n",
            "  File \"/usr/local/lib/python3.10/dist-packages/sampling/bin/sst.py\", line 45, in main\n",
            "    args.func(args)\n",
            "  File \"/usr/local/lib/python3.10/dist-packages/sampling/handlers.py\", line 96, in get_sample_handler\n",
            "    hdf_url = get_hdf_url(args.eventid)\n",
            "  File \"/usr/local/lib/python3.10/dist-packages/sampling/hdf_sampling.py\", line 76, in get_hdf_url\n",
            "    shakemaps = products[\"shakemap\"]\n",
            "KeyError: 'shakemap'\n"
          ]
        }
      ]
    },
    {
      "cell_type": "code",
      "source": [
        "!sst sample usp000j24a -c \"Sonapur_Tunnel\" 25.106 92.361"
      ],
      "metadata": {
        "colab": {
          "base_uri": "https://localhost:8080/"
        },
        "id": "Vtf2x4AmuAFe",
        "outputId": "734fc96f-d762-46ff-82c8-3b956d2ff8cd"
      },
      "execution_count": 73,
      "outputs": [
        {
          "output_type": "stream",
          "name": "stdout",
          "text": [
            "No ShakeMap for event usp000j24a. Exiting.\n",
            "Traceback (most recent call last):\n",
            "  File \"/usr/local/bin/sst\", line 8, in <module>\n",
            "    sys.exit(main())\n",
            "  File \"/usr/local/lib/python3.10/dist-packages/sampling/bin/sst.py\", line 45, in main\n",
            "    args.func(args)\n",
            "  File \"/usr/local/lib/python3.10/dist-packages/sampling/handlers.py\", line 96, in get_sample_handler\n",
            "    hdf_url = get_hdf_url(args.eventid)\n",
            "  File \"/usr/local/lib/python3.10/dist-packages/sampling/hdf_sampling.py\", line 76, in get_hdf_url\n",
            "    shakemaps = products[\"shakemap\"]\n",
            "KeyError: 'shakemap'\n"
          ]
        }
      ]
    },
    {
      "cell_type": "code",
      "source": [
        "!sst sample usp000hs8t -c \"Sonapur_Tunnel\" 25.106 92.361"
      ],
      "metadata": {
        "colab": {
          "base_uri": "https://localhost:8080/"
        },
        "id": "PrJaaDyBuPfW",
        "outputId": "b6cf442b-4d15-48c3-9e0e-338c85d70b6d"
      },
      "execution_count": 74,
      "outputs": [
        {
          "output_type": "stream",
          "name": "stdout",
          "text": [
            "No ShakeMap for event usp000hs8t. Exiting.\n",
            "Traceback (most recent call last):\n",
            "  File \"/usr/local/bin/sst\", line 8, in <module>\n",
            "    sys.exit(main())\n",
            "  File \"/usr/local/lib/python3.10/dist-packages/sampling/bin/sst.py\", line 45, in main\n",
            "    args.func(args)\n",
            "  File \"/usr/local/lib/python3.10/dist-packages/sampling/handlers.py\", line 96, in get_sample_handler\n",
            "    hdf_url = get_hdf_url(args.eventid)\n",
            "  File \"/usr/local/lib/python3.10/dist-packages/sampling/hdf_sampling.py\", line 76, in get_hdf_url\n",
            "    shakemaps = products[\"shakemap\"]\n",
            "KeyError: 'shakemap'\n"
          ]
        }
      ]
    },
    {
      "cell_type": "code",
      "source": [
        "!sst sample usp000gr8t -c \"Sonapur_Tunnel\" 25.106 92.361"
      ],
      "metadata": {
        "colab": {
          "base_uri": "https://localhost:8080/"
        },
        "id": "8eo8VvS9ukyT",
        "outputId": "9f62274d-313f-4938-ca2f-6a11d6973534"
      },
      "execution_count": 75,
      "outputs": [
        {
          "output_type": "stream",
          "name": "stdout",
          "text": [
            "No ShakeMap for event usp000gr8t. Exiting.\n",
            "Traceback (most recent call last):\n",
            "  File \"/usr/local/bin/sst\", line 8, in <module>\n",
            "    sys.exit(main())\n",
            "  File \"/usr/local/lib/python3.10/dist-packages/sampling/bin/sst.py\", line 45, in main\n",
            "    args.func(args)\n",
            "  File \"/usr/local/lib/python3.10/dist-packages/sampling/handlers.py\", line 96, in get_sample_handler\n",
            "    hdf_url = get_hdf_url(args.eventid)\n",
            "  File \"/usr/local/lib/python3.10/dist-packages/sampling/hdf_sampling.py\", line 76, in get_hdf_url\n",
            "    shakemaps = products[\"shakemap\"]\n",
            "KeyError: 'shakemap'\n"
          ]
        }
      ]
    },
    {
      "cell_type": "code",
      "source": [
        "!sst sample usp000b8eq -c \"Sonapur_Tunnel\" 25.106 92.361"
      ],
      "metadata": {
        "colab": {
          "base_uri": "https://localhost:8080/"
        },
        "id": "LmwDQNg1us0y",
        "outputId": "8fe649da-f823-4204-9117-e50fafedd3e8"
      },
      "execution_count": 76,
      "outputs": [
        {
          "output_type": "stream",
          "name": "stdout",
          "text": [
            "No ShakeMap for event usp000b8eq. Exiting.\n",
            "Traceback (most recent call last):\n",
            "  File \"/usr/local/bin/sst\", line 8, in <module>\n",
            "    sys.exit(main())\n",
            "  File \"/usr/local/lib/python3.10/dist-packages/sampling/bin/sst.py\", line 45, in main\n",
            "    args.func(args)\n",
            "  File \"/usr/local/lib/python3.10/dist-packages/sampling/handlers.py\", line 96, in get_sample_handler\n",
            "    hdf_url = get_hdf_url(args.eventid)\n",
            "  File \"/usr/local/lib/python3.10/dist-packages/sampling/hdf_sampling.py\", line 76, in get_hdf_url\n",
            "    shakemaps = products[\"shakemap\"]\n",
            "KeyError: 'shakemap'\n"
          ]
        }
      ]
    },
    {
      "cell_type": "code",
      "source": [
        "!sst sample usp000b05s -c \"Sonapur_Tunnel\" 25.106 92.361"
      ],
      "metadata": {
        "colab": {
          "base_uri": "https://localhost:8080/"
        },
        "id": "QI9R7xjzuyRS",
        "outputId": "9982c8fb-d33d-4630-d93a-09da7470e12e"
      },
      "execution_count": 77,
      "outputs": [
        {
          "output_type": "stream",
          "name": "stdout",
          "text": [
            "No ShakeMap for event usp000b05s. Exiting.\n",
            "Traceback (most recent call last):\n",
            "  File \"/usr/local/bin/sst\", line 8, in <module>\n",
            "    sys.exit(main())\n",
            "  File \"/usr/local/lib/python3.10/dist-packages/sampling/bin/sst.py\", line 45, in main\n",
            "    args.func(args)\n",
            "  File \"/usr/local/lib/python3.10/dist-packages/sampling/handlers.py\", line 96, in get_sample_handler\n",
            "    hdf_url = get_hdf_url(args.eventid)\n",
            "  File \"/usr/local/lib/python3.10/dist-packages/sampling/hdf_sampling.py\", line 76, in get_hdf_url\n",
            "    shakemaps = products[\"shakemap\"]\n",
            "KeyError: 'shakemap'\n"
          ]
        }
      ]
    },
    {
      "cell_type": "code",
      "source": [
        "!sst sample usp00081x0 -c \"Sonapur_Tunnel\" 25.106 92.361"
      ],
      "metadata": {
        "colab": {
          "base_uri": "https://localhost:8080/"
        },
        "id": "2QwTtoV7u8Ar",
        "outputId": "22bd799d-e631-47db-a4ec-8773424c05c6"
      },
      "execution_count": 78,
      "outputs": [
        {
          "output_type": "stream",
          "name": "stdout",
          "text": [
            "            id      lat      lon sample_lat sample_lon sample_distance_m       vs30  MMI_mean  MMI_std  PGA_mean  PGA_std  PGV_mean  PGV_std  SA(0.3)_mean  SA(0.3)_std  SA(1.0)_mean  SA(1.0)_std  SA(3.0)_mean  SA(3.0)_std\n",
            "Sonapur_Tunnel 25.10600 92.36100   25.10833   92.35833          373.3776 626.682861  5.451882 1.242253 -1.905182 0.658486   1.80022 0.737421     -2.079543     0.783057     -3.430394     0.800866     -5.272695     0.781683\n"
          ]
        }
      ]
    },
    {
      "cell_type": "code",
      "source": [
        "!sst sample usp0006g38 -c \"Sonapur_Tunnel\" 25.106 92.361"
      ],
      "metadata": {
        "colab": {
          "base_uri": "https://localhost:8080/"
        },
        "id": "5DrDznsPvGQU",
        "outputId": "ab7234f3-9f30-4e3d-a17b-7a5c9326b33b"
      },
      "execution_count": 79,
      "outputs": [
        {
          "output_type": "stream",
          "name": "stdout",
          "text": [
            "No ShakeMap for event usp0006g38. Exiting.\n",
            "Traceback (most recent call last):\n",
            "  File \"/usr/local/bin/sst\", line 8, in <module>\n",
            "    sys.exit(main())\n",
            "  File \"/usr/local/lib/python3.10/dist-packages/sampling/bin/sst.py\", line 45, in main\n",
            "    args.func(args)\n",
            "  File \"/usr/local/lib/python3.10/dist-packages/sampling/handlers.py\", line 96, in get_sample_handler\n",
            "    hdf_url = get_hdf_url(args.eventid)\n",
            "  File \"/usr/local/lib/python3.10/dist-packages/sampling/hdf_sampling.py\", line 76, in get_hdf_url\n",
            "    shakemaps = products[\"shakemap\"]\n",
            "KeyError: 'shakemap'\n"
          ]
        }
      ]
    },
    {
      "cell_type": "code",
      "source": [
        "!sst sample usp0005c5t -c \"Sonapur_Tunnel\" 25.106 92.361"
      ],
      "metadata": {
        "colab": {
          "base_uri": "https://localhost:8080/"
        },
        "id": "NHmM84D3vL8z",
        "outputId": "436804f5-0b73-414d-aff4-f39bc3f8e887"
      },
      "execution_count": 80,
      "outputs": [
        {
          "output_type": "stream",
          "name": "stdout",
          "text": [
            "No ShakeMap for event usp0005c5t. Exiting.\n",
            "Traceback (most recent call last):\n",
            "  File \"/usr/local/bin/sst\", line 8, in <module>\n",
            "    sys.exit(main())\n",
            "  File \"/usr/local/lib/python3.10/dist-packages/sampling/bin/sst.py\", line 45, in main\n",
            "    args.func(args)\n",
            "  File \"/usr/local/lib/python3.10/dist-packages/sampling/handlers.py\", line 96, in get_sample_handler\n",
            "    hdf_url = get_hdf_url(args.eventid)\n",
            "  File \"/usr/local/lib/python3.10/dist-packages/sampling/hdf_sampling.py\", line 76, in get_hdf_url\n",
            "    shakemaps = products[\"shakemap\"]\n",
            "KeyError: 'shakemap'\n"
          ]
        }
      ]
    },
    {
      "cell_type": "code",
      "source": [
        "!sst sample usp00053fk -c \"Sonapur_Tunnel\" 25.106 92.361"
      ],
      "metadata": {
        "colab": {
          "base_uri": "https://localhost:8080/"
        },
        "id": "7pcC33YFvTCb",
        "outputId": "a553d65a-bbd2-4c97-a4c3-20925246958a"
      },
      "execution_count": 81,
      "outputs": [
        {
          "output_type": "stream",
          "name": "stdout",
          "text": [
            "No ShakeMap for event usp00053fk. Exiting.\n",
            "Traceback (most recent call last):\n",
            "  File \"/usr/local/bin/sst\", line 8, in <module>\n",
            "    sys.exit(main())\n",
            "  File \"/usr/local/lib/python3.10/dist-packages/sampling/bin/sst.py\", line 45, in main\n",
            "    args.func(args)\n",
            "  File \"/usr/local/lib/python3.10/dist-packages/sampling/handlers.py\", line 96, in get_sample_handler\n",
            "    hdf_url = get_hdf_url(args.eventid)\n",
            "  File \"/usr/local/lib/python3.10/dist-packages/sampling/hdf_sampling.py\", line 76, in get_hdf_url\n",
            "    shakemaps = products[\"shakemap\"]\n",
            "KeyError: 'shakemap'\n"
          ]
        }
      ]
    },
    {
      "cell_type": "code",
      "source": [
        "!sst sample usp000453c -c \"Sonapur_Tunnel\" 25.106 92.361"
      ],
      "metadata": {
        "colab": {
          "base_uri": "https://localhost:8080/"
        },
        "id": "JUpHqJsWvYYd",
        "outputId": "a82699e6-882c-4133-c198-37a298335378"
      },
      "execution_count": 82,
      "outputs": [
        {
          "output_type": "stream",
          "name": "stdout",
          "text": [
            "No ShakeMap for event usp000453c. Exiting.\n",
            "Traceback (most recent call last):\n",
            "  File \"/usr/local/bin/sst\", line 8, in <module>\n",
            "    sys.exit(main())\n",
            "  File \"/usr/local/lib/python3.10/dist-packages/sampling/bin/sst.py\", line 45, in main\n",
            "    args.func(args)\n",
            "  File \"/usr/local/lib/python3.10/dist-packages/sampling/handlers.py\", line 96, in get_sample_handler\n",
            "    hdf_url = get_hdf_url(args.eventid)\n",
            "  File \"/usr/local/lib/python3.10/dist-packages/sampling/hdf_sampling.py\", line 76, in get_hdf_url\n",
            "    shakemaps = products[\"shakemap\"]\n",
            "KeyError: 'shakemap'\n"
          ]
        }
      ]
    },
    {
      "cell_type": "code",
      "source": [
        "!sst sample usp0002yy2 -c \"Sonapur_Tunnel\" 25.106 92.361"
      ],
      "metadata": {
        "colab": {
          "base_uri": "https://localhost:8080/"
        },
        "id": "QNuzQPiMvd4F",
        "outputId": "30d83906-c71f-4c36-a606-170ba252a18d"
      },
      "execution_count": 83,
      "outputs": [
        {
          "output_type": "stream",
          "name": "stdout",
          "text": [
            "No ShakeMap for event usp0002yy2. Exiting.\n",
            "Traceback (most recent call last):\n",
            "  File \"/usr/local/bin/sst\", line 8, in <module>\n",
            "    sys.exit(main())\n",
            "  File \"/usr/local/lib/python3.10/dist-packages/sampling/bin/sst.py\", line 45, in main\n",
            "    args.func(args)\n",
            "  File \"/usr/local/lib/python3.10/dist-packages/sampling/handlers.py\", line 96, in get_sample_handler\n",
            "    hdf_url = get_hdf_url(args.eventid)\n",
            "  File \"/usr/local/lib/python3.10/dist-packages/sampling/hdf_sampling.py\", line 76, in get_hdf_url\n",
            "    shakemaps = products[\"shakemap\"]\n",
            "KeyError: 'shakemap'\n"
          ]
        }
      ]
    },
    {
      "cell_type": "code",
      "source": [
        "!sst sample usp0002xyr -c \"Sonapur_Tunnel\" 25.106 92.361"
      ],
      "metadata": {
        "colab": {
          "base_uri": "https://localhost:8080/"
        },
        "id": "dVQHgXO1vi_C",
        "outputId": "2b2e2d27-4480-4f16-c713-19eb7d1272a8"
      },
      "execution_count": 84,
      "outputs": [
        {
          "output_type": "stream",
          "name": "stdout",
          "text": [
            "No ShakeMap for event usp0002xyr. Exiting.\n",
            "Traceback (most recent call last):\n",
            "  File \"/usr/local/bin/sst\", line 8, in <module>\n",
            "    sys.exit(main())\n",
            "  File \"/usr/local/lib/python3.10/dist-packages/sampling/bin/sst.py\", line 45, in main\n",
            "    args.func(args)\n",
            "  File \"/usr/local/lib/python3.10/dist-packages/sampling/handlers.py\", line 96, in get_sample_handler\n",
            "    hdf_url = get_hdf_url(args.eventid)\n",
            "  File \"/usr/local/lib/python3.10/dist-packages/sampling/hdf_sampling.py\", line 76, in get_hdf_url\n",
            "    shakemaps = products[\"shakemap\"]\n",
            "KeyError: 'shakemap'\n"
          ]
        }
      ]
    },
    {
      "cell_type": "code",
      "source": [
        "!sst sample us7000kg5v -c \"Sonapur_Tunnel\" 25.106 92.361"
      ],
      "metadata": {
        "colab": {
          "base_uri": "https://localhost:8080/"
        },
        "id": "vtl6qJdNvn1a",
        "outputId": "aca5c251-b45b-4c08-f97a-d6976487413f"
      },
      "execution_count": 85,
      "outputs": [
        {
          "output_type": "stream",
          "name": "stdout",
          "text": [
            "No ShakeMap for event us7000kg5v. Exiting.\n",
            "Traceback (most recent call last):\n",
            "  File \"/usr/local/bin/sst\", line 8, in <module>\n",
            "    sys.exit(main())\n",
            "  File \"/usr/local/lib/python3.10/dist-packages/sampling/bin/sst.py\", line 45, in main\n",
            "    args.func(args)\n",
            "  File \"/usr/local/lib/python3.10/dist-packages/sampling/handlers.py\", line 96, in get_sample_handler\n",
            "    hdf_url = get_hdf_url(args.eventid)\n",
            "  File \"/usr/local/lib/python3.10/dist-packages/sampling/hdf_sampling.py\", line 76, in get_hdf_url\n",
            "    shakemaps = products[\"shakemap\"]\n",
            "KeyError: 'shakemap'\n"
          ]
        }
      ]
    },
    {
      "cell_type": "code",
      "source": [
        "!sst sample us7000k8uw -c \"Sonapur_Tunnel\" 25.106 92.361"
      ],
      "metadata": {
        "colab": {
          "base_uri": "https://localhost:8080/"
        },
        "id": "1TWpIcXpvwrT",
        "outputId": "a34c1f4d-64e7-4fa8-aff3-07fce38cd626"
      },
      "execution_count": 86,
      "outputs": [
        {
          "output_type": "stream",
          "name": "stdout",
          "text": [
            "No ShakeMap for event us7000k8uw. Exiting.\n",
            "Traceback (most recent call last):\n",
            "  File \"/usr/local/bin/sst\", line 8, in <module>\n",
            "    sys.exit(main())\n",
            "  File \"/usr/local/lib/python3.10/dist-packages/sampling/bin/sst.py\", line 45, in main\n",
            "    args.func(args)\n",
            "  File \"/usr/local/lib/python3.10/dist-packages/sampling/handlers.py\", line 96, in get_sample_handler\n",
            "    hdf_url = get_hdf_url(args.eventid)\n",
            "  File \"/usr/local/lib/python3.10/dist-packages/sampling/hdf_sampling.py\", line 76, in get_hdf_url\n",
            "    shakemaps = products[\"shakemap\"]\n",
            "KeyError: 'shakemap'\n"
          ]
        }
      ]
    },
    {
      "cell_type": "code",
      "source": [
        "!sst sample us6000k2fw -c \"Sonapur_Tunnel\" 25.106 92.361"
      ],
      "metadata": {
        "colab": {
          "base_uri": "https://localhost:8080/"
        },
        "id": "xqwvZGi9v1IW",
        "outputId": "6362b0c1-aaf2-4d3d-c79d-32e4b47897b7"
      },
      "execution_count": 89,
      "outputs": [
        {
          "output_type": "stream",
          "name": "stdout",
          "text": [
            "No ShakeMap for event us6000k2fw. Exiting.\n",
            "Traceback (most recent call last):\n",
            "  File \"/usr/local/bin/sst\", line 8, in <module>\n",
            "    sys.exit(main())\n",
            "  File \"/usr/local/lib/python3.10/dist-packages/sampling/bin/sst.py\", line 45, in main\n",
            "    args.func(args)\n",
            "  File \"/usr/local/lib/python3.10/dist-packages/sampling/handlers.py\", line 96, in get_sample_handler\n",
            "    hdf_url = get_hdf_url(args.eventid)\n",
            "  File \"/usr/local/lib/python3.10/dist-packages/sampling/hdf_sampling.py\", line 76, in get_hdf_url\n",
            "    shakemaps = products[\"shakemap\"]\n",
            "KeyError: 'shakemap'\n"
          ]
        }
      ]
    },
    {
      "cell_type": "code",
      "source": [
        "!sst sample usp0003ct7 -c \"Sonapur_Tunnel\" 25.106 92.361"
      ],
      "metadata": {
        "colab": {
          "base_uri": "https://localhost:8080/"
        },
        "id": "lS0AARoxx_By",
        "outputId": "08f7b130-cc9c-41ee-c055-1420f641aae8"
      },
      "execution_count": 90,
      "outputs": [
        {
          "output_type": "stream",
          "name": "stdout",
          "text": [
            "            id      lat      lon sample_lat sample_lon sample_distance_m       vs30  MMI_mean  MMI_std  PGA_mean  PGA_std  PGV_mean  PGV_std  SA(0.3)_mean  SA(0.3)_std  SA(1.0)_mean  SA(1.0)_std  SA(3.0)_mean  SA(3.0)_std\n",
            "Sonapur_Tunnel 25.10600 92.36100   25.10833   92.35833          373.3776 626.682861  3.913188 0.733811 -3.230355 0.588701  0.566894  0.56186     -3.543625     0.720731     -4.702293     0.751788     -6.421623     0.739975\n"
          ]
        }
      ]
    },
    {
      "cell_type": "code",
      "source": [
        "!sst sample usp00081x0 -c \"Sonapur_Tunnel\" 25.106 92.361"
      ],
      "metadata": {
        "colab": {
          "base_uri": "https://localhost:8080/"
        },
        "id": "jgQ3gxA0yGOD",
        "outputId": "24f17a17-9b5f-4e6a-e5cd-b213260cb721"
      },
      "execution_count": 91,
      "outputs": [
        {
          "output_type": "stream",
          "name": "stdout",
          "text": [
            "            id      lat      lon sample_lat sample_lon sample_distance_m       vs30  MMI_mean  MMI_std  PGA_mean  PGA_std  PGV_mean  PGV_std  SA(0.3)_mean  SA(0.3)_std  SA(1.0)_mean  SA(1.0)_std  SA(3.0)_mean  SA(3.0)_std\n",
            "Sonapur_Tunnel 25.10600 92.36100   25.10833   92.35833          373.3776 626.682861  5.451882 1.242253 -1.905182 0.658486   1.80022 0.737421     -2.079543     0.783057     -3.430394     0.800866     -5.272695     0.781683\n"
          ]
        }
      ]
    },
    {
      "cell_type": "code",
      "source": [
        "!sst sample usp0003tx3 -c \"Sonapur_Tunnel\" 25.106 92.361"
      ],
      "metadata": {
        "colab": {
          "base_uri": "https://localhost:8080/"
        },
        "id": "TfNGy6qPyJXX",
        "outputId": "331021dd-c23c-4199-cb3f-ac1af88fecf2"
      },
      "execution_count": 92,
      "outputs": [
        {
          "output_type": "stream",
          "name": "stdout",
          "text": [
            "            id      lat      lon sample_lat sample_lon sample_distance_m       vs30  MMI_mean  MMI_std  PGA_mean  PGA_std  PGV_mean  PGV_std  SA(0.3)_mean  SA(0.3)_std  SA(1.0)_mean  SA(1.0)_std  SA(3.0)_mean  SA(3.0)_std\n",
            "Sonapur_Tunnel 25.10600 92.36100   25.10833   92.35833          373.3776 626.682861  3.543582 0.808144 -4.367669 0.692805 -0.585201 0.777121      -3.84336     0.732363     -5.300317      0.74848     -7.309787     0.730917\n"
          ]
        }
      ]
    },
    {
      "cell_type": "code",
      "source": [
        "!sst sample usp000dabz -c \"Sonapur_Tunnel\" 25.106 92.361"
      ],
      "metadata": {
        "colab": {
          "base_uri": "https://localhost:8080/"
        },
        "id": "ihHoCGlHyNjn",
        "outputId": "b839851a-1d53-4681-b564-39c0052a7e9e"
      },
      "execution_count": 93,
      "outputs": [
        {
          "output_type": "stream",
          "name": "stdout",
          "text": [
            "            id      lat      lon sample_lat sample_lon sample_distance_m       vs30  MMI_mean  MMI_std  PGA_mean  PGA_std  PGV_mean  PGV_std  SA(0.3)_mean  SA(0.3)_std  SA(1.0)_mean  SA(1.0)_std  SA(3.0)_mean  SA(3.0)_std\n",
            "Sonapur_Tunnel 25.10600 92.36100   25.10833   92.35833          373.3776 626.682861  3.842154 0.801835 -3.710235 0.670715 -0.016417 0.773517     -3.261825     0.720895     -4.773751     0.727508     -6.770054     0.714624\n"
          ]
        }
      ]
    },
    {
      "cell_type": "code",
      "source": [
        "!sst sample usp000dg6k -c \"Sonapur_Tunnel\" 25.106 92.361"
      ],
      "metadata": {
        "colab": {
          "base_uri": "https://localhost:8080/"
        },
        "id": "xSuinQZByS4R",
        "outputId": "a0b8ca38-7e57-4940-ad9b-bdc0c9ee1a4f"
      },
      "execution_count": 94,
      "outputs": [
        {
          "output_type": "stream",
          "name": "stdout",
          "text": [
            "            id      lat      lon sample_lat sample_lon sample_distance_m       vs30  MMI_mean  MMI_std  PGA_mean  PGA_std  PGV_mean  PGV_std  SA(0.3)_mean  SA(0.3)_std  SA(1.0)_mean  SA(1.0)_std  SA(3.0)_mean  SA(3.0)_std\n",
            "Sonapur_Tunnel 25.10600 92.36100   25.10833   92.35833          373.3776 626.682861  3.177922  0.82187 -4.997508 0.727565 -1.482236 0.815327     -4.539772     0.756568     -6.196615     0.753615     -8.427374     0.731932\n"
          ]
        }
      ]
    },
    {
      "cell_type": "code",
      "source": [
        "!sst sample usp0002aJx -c \"Sonapur_Tunnel\" 25.106 92.361"
      ],
      "metadata": {
        "colab": {
          "base_uri": "https://localhost:8080/"
        },
        "id": "XyQgQhENyW5H",
        "outputId": "785bc664-1b82-4337-d2af-6008904e37ce"
      },
      "execution_count": 95,
      "outputs": [
        {
          "output_type": "stream",
          "name": "stdout",
          "text": [
            "            id      lat      lon sample_lat sample_lon sample_distance_m       vs30  MMI_mean  MMI_std  PGA_mean  PGA_std  PGV_mean  PGV_std  SA(0.3)_mean  SA(0.3)_std  SA(1.0)_mean  SA(1.0)_std  SA(3.0)_mean  SA(3.0)_std\n",
            "Sonapur_Tunnel 25.10600 92.36100   25.10833   92.35833          373.3776 626.682861   3.86275 0.795141 -3.743171 0.658764  0.392502  0.70784     -3.073446     0.703547     -4.301209     0.741513     -6.056285     0.732881\n"
          ]
        }
      ]
    },
    {
      "cell_type": "code",
      "source": [],
      "metadata": {
        "id": "IqXWrhvbyavX"
      },
      "execution_count": null,
      "outputs": []
    }
  ]
}